{
  "nbformat": 4,
  "nbformat_minor": 0,
  "metadata": {
    "colab": {
      "name": "Untitled0.ipynb",
      "provenance": [],
      "collapsed_sections": []
    },
    "kernelspec": {
      "name": "python3",
      "display_name": "Python 3"
    }
  },
  "cells": [
    {
      "cell_type": "code",
      "metadata": {
        "colab": {
          "base_uri": "https://localhost:8080/"
        },
        "id": "E6BwB9zRsJNM",
        "outputId": "a2153d94-e963-495e-9a81-2221181c7fce"
      },
      "source": [
        "name = input(\"Enter your name: \")\r\n",
        "print (\"Wlecome\", name)\r\n"
      ],
      "execution_count": 4,
      "outputs": [
        {
          "output_type": "stream",
          "text": [
            "Enter your name: Shaima\n",
            "Wlecome Shaima\n"
          ],
          "name": "stdout"
        }
      ]
    },
    {
      "cell_type": "code",
      "metadata": {
        "colab": {
          "base_uri": "https://localhost:8080/"
        },
        "id": "S_7BmY7uBTkL",
        "outputId": "5275e69a-4490-4c33-c534-1f421edb4611"
      },
      "source": [
        "weight = float (input(\"Enter your weight: \"))\r\n",
        "print(\"your weight is:\" , weight)"
      ],
      "execution_count": 14,
      "outputs": [
        {
          "output_type": "stream",
          "text": [
            "Enter your weight: 48.30\n",
            "your weight is: 48.3\n"
          ],
          "name": "stdout"
        }
      ]
    }
  ]
}